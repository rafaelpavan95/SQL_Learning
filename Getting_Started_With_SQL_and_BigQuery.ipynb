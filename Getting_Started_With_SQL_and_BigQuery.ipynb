{
  "nbformat": 4,
  "nbformat_minor": 0,
  "metadata": {
    "colab": {
      "name": "Getting Started With SQL and BigQuery.ipynb",
      "provenance": []
    },
    "kernelspec": {
      "name": "python3",
      "display_name": "Python 3"
    },
    "language_info": {
      "name": "python"
    }
  },
  "cells": [
    {
      "cell_type": "markdown",
      "metadata": {
        "id": "bZxKl0Uts0vu"
      },
      "source": [
        "# Getting Started With SQL and BigQuery\n",
        "\n",
        "Learn the workflow for handling big datasets with BigQuery and SQL\n",
        "\n",
        "Kaggle: https://www.kaggle.com/dansbecker/getting-started-with-sql-and-bigquery\n",
        "\n",
        "Rafael Pavan"
      ]
    },
    {
      "cell_type": "code",
      "metadata": {
        "id": "C5s4bXp5s38o"
      },
      "source": [
        "from google.colab import auth\n",
        "\n",
        "auth.authenticate_user()"
      ],
      "execution_count": 2,
      "outputs": []
    },
    {
      "cell_type": "code",
      "metadata": {
        "id": "Nyc9IUY1tRMz"
      },
      "source": [
        "project_id = 'BigQuery-Rafael-0'\n",
        "\n",
        "from google.cloud import bigquery\n",
        "\n",
        "client = bigquery.Client(project = project_id)"
      ],
      "execution_count": 6,
      "outputs": []
    },
    {
      "cell_type": "code",
      "metadata": {
        "colab": {
          "base_uri": "https://localhost:8080/"
        },
        "id": "hgmivgUSxiLu",
        "outputId": "82c97b57-6e5f-47e1-c6f5-8d0ceb470cc9"
      },
      "source": [
        "dataset_ref = client.dataset(\"hacker_news\", project=\"bigquery-public-data\")\n",
        "\n",
        "# API request - fetch the dataset\n",
        "dataset = client.get_dataset(dataset_ref)\n",
        "\n",
        "tables = list(client.list_tables(dataset))\n",
        "\n",
        "for table in tables:  \n",
        "    print(table.table_id)"
      ],
      "execution_count": 7,
      "outputs": [
        {
          "output_type": "stream",
          "name": "stdout",
          "text": [
            "comments\n",
            "full\n",
            "full_201510\n",
            "stories\n"
          ]
        }
      ]
    },
    {
      "cell_type": "code",
      "metadata": {
        "id": "b8CSE3igx004"
      },
      "source": [
        "table_ref = dataset_ref.table('full')\n",
        "\n",
        "table = client.get_table(table_ref)"
      ],
      "execution_count": 8,
      "outputs": []
    },
    {
      "cell_type": "code",
      "metadata": {
        "colab": {
          "base_uri": "https://localhost:8080/"
        },
        "id": "YhovMQjfyDiF",
        "outputId": "4adb10e4-026f-4063-8fd9-c8bdf9362b77"
      },
      "source": [
        "table.schema"
      ],
      "execution_count": 11,
      "outputs": [
        {
          "output_type": "execute_result",
          "data": {
            "text/plain": [
              "[SchemaField('title', 'STRING', 'NULLABLE', 'Story title', ()),\n",
              " SchemaField('url', 'STRING', 'NULLABLE', 'Story url', ()),\n",
              " SchemaField('text', 'STRING', 'NULLABLE', 'Story or comment text', ()),\n",
              " SchemaField('dead', 'BOOLEAN', 'NULLABLE', 'Is dead?', ()),\n",
              " SchemaField('by', 'STRING', 'NULLABLE', \"The username of the item's author.\", ()),\n",
              " SchemaField('score', 'INTEGER', 'NULLABLE', 'Story score', ()),\n",
              " SchemaField('time', 'INTEGER', 'NULLABLE', 'Unix time', ()),\n",
              " SchemaField('timestamp', 'TIMESTAMP', 'NULLABLE', 'Timestamp for the unix time', ()),\n",
              " SchemaField('type', 'STRING', 'NULLABLE', 'Type of details (comment, comment_ranking, poll, story, job, pollopt)', ()),\n",
              " SchemaField('id', 'INTEGER', 'NULLABLE', \"The item's unique id.\", ()),\n",
              " SchemaField('parent', 'INTEGER', 'NULLABLE', 'Parent comment ID', ()),\n",
              " SchemaField('descendants', 'INTEGER', 'NULLABLE', 'Number of story or poll descendants', ()),\n",
              " SchemaField('ranking', 'INTEGER', 'NULLABLE', 'Comment ranking', ()),\n",
              " SchemaField('deleted', 'BOOLEAN', 'NULLABLE', 'Is deleted?', ())]"
            ]
          },
          "metadata": {},
          "execution_count": 11
        }
      ]
    },
    {
      "cell_type": "code",
      "metadata": {
        "colab": {
          "base_uri": "https://localhost:8080/",
          "height": 380
        },
        "id": "I69TziQryMtW",
        "outputId": "c995446c-c5e4-4024-92e2-d55722a6982a"
      },
      "source": [
        "client.list_rows(table, max_results=5).to_dataframe()"
      ],
      "execution_count": 12,
      "outputs": [
        {
          "output_type": "execute_result",
          "data": {
            "text/html": [
              "<div>\n",
              "<style scoped>\n",
              "    .dataframe tbody tr th:only-of-type {\n",
              "        vertical-align: middle;\n",
              "    }\n",
              "\n",
              "    .dataframe tbody tr th {\n",
              "        vertical-align: top;\n",
              "    }\n",
              "\n",
              "    .dataframe thead th {\n",
              "        text-align: right;\n",
              "    }\n",
              "</style>\n",
              "<table border=\"1\" class=\"dataframe\">\n",
              "  <thead>\n",
              "    <tr style=\"text-align: right;\">\n",
              "      <th></th>\n",
              "      <th>title</th>\n",
              "      <th>url</th>\n",
              "      <th>text</th>\n",
              "      <th>dead</th>\n",
              "      <th>by</th>\n",
              "      <th>score</th>\n",
              "      <th>time</th>\n",
              "      <th>timestamp</th>\n",
              "      <th>type</th>\n",
              "      <th>id</th>\n",
              "      <th>parent</th>\n",
              "      <th>descendants</th>\n",
              "      <th>ranking</th>\n",
              "      <th>deleted</th>\n",
              "    </tr>\n",
              "  </thead>\n",
              "  <tbody>\n",
              "    <tr>\n",
              "      <th>0</th>\n",
              "      <td>None</td>\n",
              "      <td>None</td>\n",
              "      <td>Unfortunately not the most direct apples-to-ap...</td>\n",
              "      <td>None</td>\n",
              "      <td>plus</td>\n",
              "      <td>None</td>\n",
              "      <td>1418744115</td>\n",
              "      <td>2014-12-16 15:35:15+00:00</td>\n",
              "      <td>comment</td>\n",
              "      <td>8757557</td>\n",
              "      <td>8755142</td>\n",
              "      <td>None</td>\n",
              "      <td>None</td>\n",
              "      <td>None</td>\n",
              "    </tr>\n",
              "    <tr>\n",
              "      <th>1</th>\n",
              "      <td>None</td>\n",
              "      <td>None</td>\n",
              "      <td>News to me, but I haven&amp;#x27;t spent much time...</td>\n",
              "      <td>None</td>\n",
              "      <td>jasonisalive</td>\n",
              "      <td>None</td>\n",
              "      <td>1418744079</td>\n",
              "      <td>2014-12-16 15:34:39+00:00</td>\n",
              "      <td>comment</td>\n",
              "      <td>8757554</td>\n",
              "      <td>8757241</td>\n",
              "      <td>None</td>\n",
              "      <td>None</td>\n",
              "      <td>None</td>\n",
              "    </tr>\n",
              "    <tr>\n",
              "      <th>2</th>\n",
              "      <td>None</td>\n",
              "      <td>None</td>\n",
              "      <td>Your body will naturally produce less melatoni...</td>\n",
              "      <td>None</td>\n",
              "      <td>rms</td>\n",
              "      <td>None</td>\n",
              "      <td>1278466924</td>\n",
              "      <td>2010-07-07 01:42:04+00:00</td>\n",
              "      <td>comment</td>\n",
              "      <td>1493023</td>\n",
              "      <td>1492157</td>\n",
              "      <td>None</td>\n",
              "      <td>None</td>\n",
              "      <td>None</td>\n",
              "    </tr>\n",
              "    <tr>\n",
              "      <th>3</th>\n",
              "      <td>None</td>\n",
              "      <td>None</td>\n",
              "      <td>It is only half of the story. I was almost sur...</td>\n",
              "      <td>None</td>\n",
              "      <td>blacklion</td>\n",
              "      <td>None</td>\n",
              "      <td>1581972159</td>\n",
              "      <td>2020-02-17 20:42:39+00:00</td>\n",
              "      <td>comment</td>\n",
              "      <td>22350544</td>\n",
              "      <td>22348193</td>\n",
              "      <td>None</td>\n",
              "      <td>None</td>\n",
              "      <td>None</td>\n",
              "    </tr>\n",
              "    <tr>\n",
              "      <th>4</th>\n",
              "      <td>None</td>\n",
              "      <td>None</td>\n",
              "      <td>Yeah seriously, I thought it was going to be a...</td>\n",
              "      <td>None</td>\n",
              "      <td>zalzane</td>\n",
              "      <td>None</td>\n",
              "      <td>1366223162</td>\n",
              "      <td>2013-04-17 18:26:02+00:00</td>\n",
              "      <td>comment</td>\n",
              "      <td>5566102</td>\n",
              "      <td>5563152</td>\n",
              "      <td>None</td>\n",
              "      <td>None</td>\n",
              "      <td>None</td>\n",
              "    </tr>\n",
              "  </tbody>\n",
              "</table>\n",
              "</div>"
            ],
            "text/plain": [
              "  title   url  ... ranking deleted\n",
              "0  None  None  ...    None    None\n",
              "1  None  None  ...    None    None\n",
              "2  None  None  ...    None    None\n",
              "3  None  None  ...    None    None\n",
              "4  None  None  ...    None    None\n",
              "\n",
              "[5 rows x 14 columns]"
            ]
          },
          "metadata": {},
          "execution_count": 12
        }
      ]
    },
    {
      "cell_type": "code",
      "metadata": {
        "colab": {
          "base_uri": "https://localhost:8080/",
          "height": 206
        },
        "id": "SVSRsKEqyZhy",
        "outputId": "a126796c-9657-45ff-aaf3-d922264ebdac"
      },
      "source": [
        "client.list_rows(table, selected_fields=[table.schema[1]], max_results=5).to_dataframe()"
      ],
      "execution_count": 19,
      "outputs": [
        {
          "output_type": "execute_result",
          "data": {
            "text/html": [
              "<div>\n",
              "<style scoped>\n",
              "    .dataframe tbody tr th:only-of-type {\n",
              "        vertical-align: middle;\n",
              "    }\n",
              "\n",
              "    .dataframe tbody tr th {\n",
              "        vertical-align: top;\n",
              "    }\n",
              "\n",
              "    .dataframe thead th {\n",
              "        text-align: right;\n",
              "    }\n",
              "</style>\n",
              "<table border=\"1\" class=\"dataframe\">\n",
              "  <thead>\n",
              "    <tr style=\"text-align: right;\">\n",
              "      <th></th>\n",
              "      <th>url</th>\n",
              "    </tr>\n",
              "  </thead>\n",
              "  <tbody>\n",
              "    <tr>\n",
              "      <th>0</th>\n",
              "      <td>None</td>\n",
              "    </tr>\n",
              "    <tr>\n",
              "      <th>1</th>\n",
              "      <td>None</td>\n",
              "    </tr>\n",
              "    <tr>\n",
              "      <th>2</th>\n",
              "      <td>None</td>\n",
              "    </tr>\n",
              "    <tr>\n",
              "      <th>3</th>\n",
              "      <td>None</td>\n",
              "    </tr>\n",
              "    <tr>\n",
              "      <th>4</th>\n",
              "      <td>None</td>\n",
              "    </tr>\n",
              "  </tbody>\n",
              "</table>\n",
              "</div>"
            ],
            "text/plain": [
              "    url\n",
              "0  None\n",
              "1  None\n",
              "2  None\n",
              "3  None\n",
              "4  None"
            ]
          },
          "metadata": {},
          "execution_count": 19
        }
      ]
    }
  ]
}